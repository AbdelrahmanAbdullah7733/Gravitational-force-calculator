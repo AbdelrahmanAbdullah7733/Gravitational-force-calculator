{
 "cells": [
  {
   "cell_type": "code",
   "execution_count": 3,
   "id": "8a543116",
   "metadata": {},
   "outputs": [
    {
     "name": "stdout",
     "output_type": "stream",
     "text": [
      "enter G:6.67\n",
      "enter the mass of earth:6\n",
      "enter the mass of moon:7.34\n",
      "enter the R:3.84\n",
      "gravititional force =  1.9920979817708333e+20\n"
     ]
    }
   ],
   "source": [
    "g= float(input('enter G:'))\n",
    "\n",
    "m_earth= float(input('enter the mass of earth:'))\n",
    "\n",
    "m_moon= float(input('enter the mass of moon:'))\n",
    "\n",
    "r= float(input('enter the R:'))\n",
    "\n",
    "G = g*10**-11\n",
    "M_earth = m_earth*10**24\n",
    "M_moon=m_moon*10**22\n",
    "R=r*10**8\n",
    "\n",
    "\n",
    "FG=G*M_earth*M_moon/R**2\n",
    "\n",
    "print('gravititional force = ',FG)\n"
   ]
  }
 ],
 "metadata": {
  "kernelspec": {
   "display_name": "Python 3 (ipykernel)",
   "language": "python",
   "name": "python3"
  },
  "language_info": {
   "codemirror_mode": {
    "name": "ipython",
    "version": 3
   },
   "file_extension": ".py",
   "mimetype": "text/x-python",
   "name": "python",
   "nbconvert_exporter": "python",
   "pygments_lexer": "ipython3",
   "version": "3.9.12"
  }
 },
 "nbformat": 4,
 "nbformat_minor": 5
}
